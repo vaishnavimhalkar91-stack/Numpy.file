{
 "cells": [
  {
   "cell_type": "markdown",
   "id": "f1cc4dbc-07c6-4340-b99e-64c514950dac",
   "metadata": {},
   "source": [
    "# Create a 1D NumPy array of numbers from 0 to 9.\t\n"
   ]
  },
  {
   "cell_type": "code",
   "execution_count": 2,
   "id": "0877d08f-a65a-4a07-9f75-9b4f94f246f6",
   "metadata": {},
   "outputs": [],
   "source": [
    "\n",
    "import numpy as np"
   ]
  },
  {
   "cell_type": "code",
   "execution_count": 3,
   "id": "51b84660-24b4-46ee-a1fd-d52ed5c1a243",
   "metadata": {},
   "outputs": [
    {
     "name": "stdout",
     "output_type": "stream",
     "text": [
      "[0 1 2 3 4 5 6 7 8 9]\n"
     ]
    }
   ],
   "source": [
    "a1 = np.arange (10)\n",
    "print(a1)\n"
   ]
  },
  {
   "cell_type": "markdown",
   "id": "4e55470e-9317-4e25-ad2d-397befc67ea2",
   "metadata": {},
   "source": [
    "# Create a 2D array of shape (3, 3) with all elements as 1.\t\n"
   ]
  },
  {
   "cell_type": "code",
   "execution_count": 4,
   "id": "1c8c0b1d-ba92-4414-b82d-95c6943894e6",
   "metadata": {},
   "outputs": [
    {
     "name": "stdout",
     "output_type": "stream",
     "text": [
      "[[1. 1. 1.]\n",
      " [1. 1. 1.]\n",
      " [1. 1. 1.]]\n"
     ]
    }
   ],
   "source": [
    "a1 = np.ones((3,3))\n",
    "print (a1)"
   ]
  },
  {
   "cell_type": "markdown",
   "id": "b84caed4-11a0-4b09-9e77-c65b5b556730",
   "metadata": {},
   "source": [
    "## 3. Generate a NumPy array of 15 random integers between 10 and 50"
   ]
  },
  {
   "cell_type": "code",
   "execution_count": 8,
   "id": "33a4cbda-8f60-4921-8769-5b915430b554",
   "metadata": {},
   "outputs": [],
   "source": [
    "arr3 = np.random.randint(10, 51, size=15)\n"
   ]
  },
  {
   "cell_type": "code",
   "execution_count": 9,
   "id": "7d370d30-6080-4df1-a32b-981e541d68c2",
   "metadata": {},
   "outputs": [
    {
     "data": {
      "text/plain": [
       "array([18, 33, 42, 44, 28, 49, 48, 42, 13, 48, 35, 26, 15, 16, 27],\n",
       "      dtype=int32)"
      ]
     },
     "execution_count": 9,
     "metadata": {},
     "output_type": "execute_result"
    }
   ],
   "source": [
    "arr3 "
   ]
  },
  {
   "cell_type": "markdown",
   "id": "9dceff42-b4b1-4d1d-a1b3-5192da968872",
   "metadata": {},
   "source": [
    "## 4. Create an array of 5 evenly spaced numbers between 0 and 1 (inclusive)"
   ]
  },
  {
   "cell_type": "code",
   "execution_count": 32,
   "id": "da02f21b-36ee-46f8-9af0-863c6128dc48",
   "metadata": {},
   "outputs": [
    {
     "data": {
      "text/plain": [
       "array([0.  , 0.25, 0.5 , 0.75, 1.  ])"
      ]
     },
     "execution_count": 32,
     "metadata": {},
     "output_type": "execute_result"
    }
   ],
   "source": [
    "arr4 = np.linspace(0, 1 ,5)\n",
    "arr4"
   ]
  },
  {
   "cell_type": "markdown",
   "id": "2da28e0a-4b53-41d5-8b58-0ed92f6d7bd2",
   "metadata": {},
   "source": [
    "## 5. Create a 4x4 identity matrix using NumPy"
   ]
  },
  {
   "cell_type": "code",
   "execution_count": 30,
   "id": "e372be28-7850-4ec1-b8f2-6b38c60d8483",
   "metadata": {},
   "outputs": [
    {
     "data": {
      "text/plain": [
       "array([[1., 0., 0., 0.],\n",
       "       [0., 1., 0., 0.],\n",
       "       [0., 0., 1., 0.],\n",
       "       [0., 0., 0., 1.]])"
      ]
     },
     "execution_count": 30,
     "metadata": {},
     "output_type": "execute_result"
    }
   ],
   "source": [
    "identity_matrix = np.eye(4)\n",
    "identity_matrix "
   ]
  },
  {
   "cell_type": "markdown",
   "id": "eb622e7e-5ec8-4c98-8027-2de67b123477",
   "metadata": {},
   "source": [
    "## 6. Create an array from the list [10, 20, 30, 40] and change the data type to float\n"
   ]
  },
  {
   "cell_type": "code",
   "execution_count": 13,
   "id": "72a2e208-6278-40b3-9a68-8977f1e23ea2",
   "metadata": {},
   "outputs": [
    {
     "data": {
      "text/plain": [
       "array([10., 20., 30., 40.])"
      ]
     },
     "execution_count": 13,
     "metadata": {},
     "output_type": "execute_result"
    }
   ],
   "source": [
    "arr5 = np.array([10, 20, 30, 40], dtype=float)\n",
    "arr5"
   ]
  },
  {
   "cell_type": "markdown",
   "id": "726f9771-4f61-43d6-86fa-4359317f5bb7",
   "metadata": {},
   "source": [
    "## 7. Create a 3x3 array with values from 1 to 9, then extract the second column"
   ]
  },
  {
   "cell_type": "code",
   "execution_count": 20,
   "id": "92b737ac-10c2-4a4e-a528-6f3faef3c90f",
   "metadata": {},
   "outputs": [
    {
     "data": {
      "text/plain": [
       "array([2, 5, 8])"
      ]
     },
     "execution_count": 20,
     "metadata": {},
     "output_type": "execute_result"
    }
   ],
   "source": [
    "arr6 = np.arange(1, 10).reshape((3, 3))\n",
    "second_column= arr6[:, 1]\n",
    "second_column"
   ]
  },
  {
   "cell_type": "markdown",
   "id": "50ca5132-b2ea-492b-8e5d-45a9984df94d",
   "metadata": {},
   "source": [
    "## 8. Create a 1D array with 10 elements and reshape it into a 2x5 matrix\n"
   ]
  },
  {
   "cell_type": "code",
   "execution_count": 17,
   "id": "8d945a24-8896-4b0d-b086-fdb0030a296a",
   "metadata": {},
   "outputs": [
    {
     "data": {
      "text/plain": [
       "array([[0, 1, 2, 3, 4],\n",
       "       [5, 6, 7, 8, 9]])"
      ]
     },
     "execution_count": 17,
     "metadata": {},
     "output_type": "execute_result"
    }
   ],
   "source": [
    "\n",
    "arr7 = np.arange(10).reshape((2, 5))\n",
    "arr7\n"
   ]
  },
  {
   "cell_type": "markdown",
   "id": "40bdba23-7531-43d2-bce5-523aa9f4429c",
   "metadata": {},
   "source": [
    "## 9. Create two 2x2 matrices and perform matrix multiplication\n"
   ]
  },
  {
   "cell_type": "code",
   "execution_count": 19,
   "id": "1fba0b78-37de-4e1c-9d1f-789a7b8e4fe0",
   "metadata": {},
   "outputs": [
    {
     "data": {
      "text/plain": [
       "array([[19, 22],\n",
       "       [43, 50]])"
      ]
     },
     "execution_count": 19,
     "metadata": {},
     "output_type": "execute_result"
    }
   ],
   "source": [
    "mat1 = np.array([[1, 2], [3, 4]])\n",
    "mat2 = np.array([[5, 6], [7, 8]])\n",
    "matrix_product = np.dot(mat1, mat2)\n",
    "matrix_product "
   ]
  },
  {
   "cell_type": "markdown",
   "id": "9b13ac39-6b5a-4ef6-86e0-3dee9634b45b",
   "metadata": {},
   "source": [
    "## 10. Given the array arr = np.array([5, 12, 7, 18, 3]), replace all values greater than 10 with 100\n"
   ]
  },
  {
   "cell_type": "code",
   "execution_count": 26,
   "id": "7d88e9d1-b345-456a-825c-6b50da551237",
   "metadata": {},
   "outputs": [
    {
     "data": {
      "text/plain": [
       "array([  5, 100,   7, 100,   3])"
      ]
     },
     "execution_count": 26,
     "metadata": {},
     "output_type": "execute_result"
    }
   ],
   "source": [
    "arr8 = np.array([5, 12, 7, 18, 3])\n",
    "arr8[arr8 > 10]= 100\n",
    "arr8"
   ]
  },
  {
   "cell_type": "code",
   "execution_count": null,
   "id": "237069a5-8fff-4731-b18a-efbd82e277df",
   "metadata": {},
   "outputs": [],
   "source": []
  },
  {
   "cell_type": "code",
   "execution_count": null,
   "id": "6a744bfd-69c9-46bb-be44-7c55bbae80ce",
   "metadata": {},
   "outputs": [],
   "source": []
  }
 ],
 "metadata": {
  "kernelspec": {
   "display_name": "Python 3 (ipykernel)",
   "language": "python",
   "name": "python3"
  },
  "language_info": {
   "codemirror_mode": {
    "name": "ipython",
    "version": 3
   },
   "file_extension": ".py",
   "mimetype": "text/x-python",
   "name": "python",
   "nbconvert_exporter": "python",
   "pygments_lexer": "ipython3",
   "version": "3.13.5"
  }
 },
 "nbformat": 4,
 "nbformat_minor": 5
}
